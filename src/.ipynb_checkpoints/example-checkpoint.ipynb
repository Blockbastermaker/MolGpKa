{
 "cells": [
  {
   "cell_type": "code",
   "execution_count": 1,
   "metadata": {},
   "outputs": [],
   "source": [
    "from rdkit import Chem\n",
    "from rdkit.Chem import AllChem\n",
    "from rdkit import RDLogger\n",
    "RDLogger.DisableLog('rdApp.*')\n",
    "from rdkit.Chem.MolStandardize import rdMolStandardize\n",
    "\n",
    "import os.path as osp\n",
    "import numpy as np\n",
    "import pandas as pd\n",
    "\n",
    "import torch\n",
    "from utils.ionization_group import get_ionization_aid\n",
    "from utils.descriptor import mol2vec\n",
    "from utils.net import GCNNet\n",
    "import py3Dmol\n",
    "\n",
    "root = osp.abspath(\"\")\n",
    "\n",
    "def load_model(model_file, device=\"cpu\"):\n",
    "    model= GCNNet().to(device)\n",
    "    model.load_state_dict(torch.load(model_file, map_location=device))\n",
    "    model.eval()\n",
    "    return model\n",
    "\n",
    "def model_pred(m2, aid, model, device=\"cpu\"):\n",
    "    data = mol2vec(m2, aid)\n",
    "    with torch.no_grad():\n",
    "        data = data.to(device)\n",
    "        pKa = model(data)\n",
    "        pKa = pKa.cpu().numpy()\n",
    "        pka = pKa[0][0]\n",
    "    return pka\n",
    "\n",
    "def predict_acid(mol):\n",
    "    model_file = osp.join(root, \"../models/weight_acid.pth\")\n",
    "    model_acid = load_model(model_file)\n",
    "\n",
    "    acid_idxs= get_ionization_aid(mol, acid_or_base=\"acid\")\n",
    "    acid_res = {}\n",
    "    for aid in acid_idxs:\n",
    "        apka = model_pred(mol, aid, model_acid)\n",
    "        acid_res.update({aid:apka})\n",
    "    return acid_res\n",
    "\n",
    "def predict_base(mol):\n",
    "    model_file = osp.join(root, \"../models/weight_base.pth\")\n",
    "    model_base = load_model(model_file)\n",
    "\n",
    "    base_idxs= get_ionization_aid(mol, acid_or_base=\"base\")\n",
    "    base_res = {}\n",
    "    for aid in base_idxs:\n",
    "        bpka = model_pred(mol, aid, model_base) \n",
    "        base_res.update({aid:bpka})\n",
    "    return base_res\n",
    "\n",
    "def predict(mol, uncharged=True):\n",
    "    if uncharged:\n",
    "        un = rdMolStandardize.Uncharger()\n",
    "        mol = un.uncharge(mol)\n",
    "        mol = Chem.MolFromSmiles(Chem.MolToSmiles(mol))\n",
    "    mol = AllChem.AddHs(mol)\n",
    "    base_dict = predict_base(mol)\n",
    "    acid_dict = predict_acid(mol)\n",
    "    AllChem.EmbedMolecule(mol)\n",
    "    return base_dict, acid_dict, mol\n",
    "\n",
    "def drawit(m, atom_idxs, pkas, p=None, confId=-1):\n",
    "    mb = Chem.MolToMolBlock(m, confId=confId)\n",
    "    if p is None:\n",
    "        p = py3Dmol.view(width=600, height=400)\n",
    "    p.removeAllModels()\n",
    "    p.addModel(mb, 'sdf')\n",
    "    for pka, idx in zip(pkas, atom_idxs):\n",
    "        pos = m.GetConformer().GetAtomPosition(idx)\n",
    "        label = \"pKa={:.4}\".format(pka)\n",
    "        p.addLabel(label, {\"position\": {\"x\": pos.x, \"y\":pos.y, \"z\": pos.z}, \"fontSize\":10})\n",
    "    p.setStyle({'stick':{'colorscheme':'greenCarbon'}})\n",
    "    p.setBackgroundColor('0xeeeeee')\n",
    "    p.zoomTo()\n",
    "    return p.show()"
   ]
  },
  {
   "cell_type": "code",
   "execution_count": 2,
   "metadata": {},
   "outputs": [
    {
     "ename": "ArgumentError",
     "evalue": "Python argument types in\n    Uncharger.uncharge(Uncharger, NoneType)\ndid not match C++ signature:\n    uncharge(RDKit::MolStandardize::Uncharger {lvalue} self, RDKit::ROMol mol)",
     "output_type": "error",
     "traceback": [
      "\u001b[0;31m---------------------------------------------------------------------------\u001b[0m",
      "\u001b[0;31mArgumentError\u001b[0m                             Traceback (most recent call last)",
      "\u001b[0;32m<ipython-input-2-a078ae76815c>\u001b[0m in \u001b[0;36m<module>\u001b[0;34m\u001b[0m\n\u001b[1;32m      1\u001b[0m \u001b[0;31m# mol = Chem.MolFromSmiles(\"CN(C)CCCN1C2=CC=CC=C2SC2=C1C=C(C=C2)C(C)=O\")\u001b[0m\u001b[0;34m\u001b[0m\u001b[0;34m\u001b[0m\u001b[0;34m\u001b[0m\u001b[0m\n\u001b[1;32m      2\u001b[0m \u001b[0mmol\u001b[0m \u001b[0;34m=\u001b[0m \u001b[0mChem\u001b[0m\u001b[0;34m.\u001b[0m\u001b[0mMolFromSmiles\u001b[0m\u001b[0;34m(\u001b[0m\u001b[0;34m\"[NH3+]c1cccc1\"\u001b[0m\u001b[0;34m)\u001b[0m\u001b[0;34m\u001b[0m\u001b[0;34m\u001b[0m\u001b[0m\n\u001b[0;32m----> 3\u001b[0;31m \u001b[0mbase_dict\u001b[0m\u001b[0;34m,\u001b[0m \u001b[0macid_dict\u001b[0m\u001b[0;34m,\u001b[0m \u001b[0mm\u001b[0m \u001b[0;34m=\u001b[0m \u001b[0mpredict\u001b[0m\u001b[0;34m(\u001b[0m\u001b[0mmol\u001b[0m\u001b[0;34m)\u001b[0m\u001b[0;34m\u001b[0m\u001b[0;34m\u001b[0m\u001b[0m\n\u001b[0m\u001b[1;32m      4\u001b[0m \u001b[0matom_idx\u001b[0m \u001b[0;34m=\u001b[0m \u001b[0mlist\u001b[0m\u001b[0;34m(\u001b[0m\u001b[0mbase_dict\u001b[0m\u001b[0;34m.\u001b[0m\u001b[0mkeys\u001b[0m\u001b[0;34m(\u001b[0m\u001b[0;34m)\u001b[0m\u001b[0;34m)\u001b[0m \u001b[0;34m+\u001b[0m \u001b[0mlist\u001b[0m\u001b[0;34m(\u001b[0m\u001b[0macid_dict\u001b[0m\u001b[0;34m.\u001b[0m\u001b[0mkeys\u001b[0m\u001b[0;34m(\u001b[0m\u001b[0;34m)\u001b[0m\u001b[0;34m)\u001b[0m\u001b[0;34m\u001b[0m\u001b[0;34m\u001b[0m\u001b[0m\n\u001b[1;32m      5\u001b[0m \u001b[0mpkas\u001b[0m \u001b[0;34m=\u001b[0m \u001b[0mlist\u001b[0m\u001b[0;34m(\u001b[0m\u001b[0mbase_dict\u001b[0m\u001b[0;34m.\u001b[0m\u001b[0mvalues\u001b[0m\u001b[0;34m(\u001b[0m\u001b[0;34m)\u001b[0m\u001b[0;34m)\u001b[0m \u001b[0;34m+\u001b[0m \u001b[0mlist\u001b[0m\u001b[0;34m(\u001b[0m\u001b[0macid_dict\u001b[0m\u001b[0;34m.\u001b[0m\u001b[0mvalues\u001b[0m\u001b[0;34m(\u001b[0m\u001b[0;34m)\u001b[0m\u001b[0;34m)\u001b[0m\u001b[0;34m\u001b[0m\u001b[0;34m\u001b[0m\u001b[0m\n",
      "\u001b[0;32m<ipython-input-1-841aa1029278>\u001b[0m in \u001b[0;36mpredict\u001b[0;34m(mol, uncharged)\u001b[0m\n\u001b[1;32m     57\u001b[0m     \u001b[0;32mif\u001b[0m \u001b[0muncharged\u001b[0m\u001b[0;34m:\u001b[0m\u001b[0;34m\u001b[0m\u001b[0;34m\u001b[0m\u001b[0m\n\u001b[1;32m     58\u001b[0m         \u001b[0mun\u001b[0m \u001b[0;34m=\u001b[0m \u001b[0mrdMolStandardize\u001b[0m\u001b[0;34m.\u001b[0m\u001b[0mUncharger\u001b[0m\u001b[0;34m(\u001b[0m\u001b[0;34m)\u001b[0m\u001b[0;34m\u001b[0m\u001b[0;34m\u001b[0m\u001b[0m\n\u001b[0;32m---> 59\u001b[0;31m         \u001b[0mmol\u001b[0m \u001b[0;34m=\u001b[0m \u001b[0mun\u001b[0m\u001b[0;34m.\u001b[0m\u001b[0muncharge\u001b[0m\u001b[0;34m(\u001b[0m\u001b[0mmol\u001b[0m\u001b[0;34m)\u001b[0m\u001b[0;34m\u001b[0m\u001b[0;34m\u001b[0m\u001b[0m\n\u001b[0m\u001b[1;32m     60\u001b[0m     \u001b[0mmol\u001b[0m \u001b[0;34m=\u001b[0m \u001b[0mAllChem\u001b[0m\u001b[0;34m.\u001b[0m\u001b[0mAddHs\u001b[0m\u001b[0;34m(\u001b[0m\u001b[0mmol\u001b[0m\u001b[0;34m)\u001b[0m\u001b[0;34m\u001b[0m\u001b[0;34m\u001b[0m\u001b[0m\n\u001b[1;32m     61\u001b[0m     \u001b[0mbase_dict\u001b[0m \u001b[0;34m=\u001b[0m \u001b[0mpredict_base\u001b[0m\u001b[0;34m(\u001b[0m\u001b[0mmol\u001b[0m\u001b[0;34m)\u001b[0m\u001b[0;34m\u001b[0m\u001b[0;34m\u001b[0m\u001b[0m\n",
      "\u001b[0;31mArgumentError\u001b[0m: Python argument types in\n    Uncharger.uncharge(Uncharger, NoneType)\ndid not match C++ signature:\n    uncharge(RDKit::MolStandardize::Uncharger {lvalue} self, RDKit::ROMol mol)"
     ]
    }
   ],
   "source": [
    "# mol = Chem.MolFromSmiles(\"CN(C)CCCN1C2=CC=CC=C2SC2=C1C=C(C=C2)C(C)=O\")\n",
    "mol = Chem.MolFromSmiles(\"[NH3+]c1cccc1\")\n",
    "base_dict, acid_dict, m = predict(mol)\n",
    "atom_idx = list(base_dict.keys()) + list(acid_dict.keys())\n",
    "pkas = list(base_dict.values()) + list(acid_dict.values())\n",
    "drawit(m, atom_idx, pkas)"
   ]
  },
  {
   "cell_type": "code",
   "execution_count": null,
   "metadata": {},
   "outputs": [],
   "source": []
  }
 ],
 "metadata": {
  "kernelspec": {
   "display_name": "pytorch",
   "language": "python",
   "name": "pytorch"
  },
  "language_info": {
   "codemirror_mode": {
    "name": "ipython",
    "version": 3
   },
   "file_extension": ".py",
   "mimetype": "text/x-python",
   "name": "python",
   "nbconvert_exporter": "python",
   "pygments_lexer": "ipython3",
   "version": "3.6.9"
  }
 },
 "nbformat": 4,
 "nbformat_minor": 4
}
